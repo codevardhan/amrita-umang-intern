{
 "cells": [
  {
   "cell_type": "code",
   "execution_count": 25,
   "metadata": {},
   "outputs": [],
   "source": [
    "import mediapipe as mp\n",
    "import cv2\n",
    "import os\n",
    "import json\n",
    "import numpy as np\n",
    "import matplotlib.pyplot as plt\n",
    "\n",
    "plt.style.use(\"ggplot\")\n"
   ]
  },
  {
   "cell_type": "markdown",
   "metadata": {},
   "source": [
    "## Data Loading"
   ]
  },
  {
   "cell_type": "code",
   "execution_count": 26,
   "metadata": {},
   "outputs": [],
   "source": [
    "data_path = \"../../data/sample_videos/sample1.mp4\"\n",
    "_, vid_file_name = os.path.split(data_path)\n",
    "video = cv2.VideoCapture(data_path)\n"
   ]
  },
  {
   "cell_type": "markdown",
   "metadata": {},
   "source": [
    "## Video Processing"
   ]
  },
  {
   "cell_type": "code",
   "execution_count": 27,
   "metadata": {},
   "outputs": [],
   "source": [
    "def get_centroid_details(file_path):\n",
    "    \"\"\"This function gets pose details from mediapipe\n",
    "\n",
    "    Args:\n",
    "        file_path (string): This is the path of the video file\n",
    "        visualize (bool, optional): Provides a visualization for the pose tracking. Defaults to False.\n",
    "\n",
    "    Returns:\n",
    "        dict: This dictionary contains a list of upper body pose estimates\n",
    "    \"\"\"\n",
    "    cap = cv2.VideoCapture(file_path)\n",
    "    mp_pose = mp.solutions.pose\n",
    "\n",
    "    rh_centroid_x = ()\n",
    "    rh_centroid_y = ()\n",
    "\n",
    "    lh_centroid_x = ()\n",
    "    lh_centroid_y = ()\n",
    "\n",
    "    with mp_pose.Pose(\n",
    "        min_detection_confidence=0.5, min_tracking_confidence=0.5\n",
    "    ) as pose:\n",
    "        while cap.isOpened():\n",
    "            success, image = cap.read()\n",
    "            if not success:\n",
    "                break\n",
    "\n",
    "            image.flags.writeable = False\n",
    "            image = cv2.cvtColor(image, cv2.COLOR_BGR2RGB)\n",
    "            image_height, image_width, _ = image.shape\n",
    "\n",
    "            centroid_results = pose.process(image)\n",
    "\n",
    "            rh_centroid_x_frame = ()\n",
    "            rh_centroid_y_frame = ()\n",
    "\n",
    "            lh_centroid_x_frame = ()\n",
    "            lh_centroid_y_frame = ()\n",
    "\n",
    "            right_hand_coords = [16, 18, 20, 22]\n",
    "            left_hand_coords = [15, 17, 21, 19]\n",
    "\n",
    "            for coord in right_hand_coords:\n",
    "                rh_centroid_x_frame = rh_centroid_x_frame + (\n",
    "                    round(\n",
    "                        centroid_results.pose_landmarks.landmark[coord].x * image_width,\n",
    "                        2,\n",
    "                    ),\n",
    "                )\n",
    "                rh_centroid_y_frame = rh_centroid_y_frame + (\n",
    "                    round(\n",
    "                        centroid_results.pose_landmarks.landmark[coord].y\n",
    "                        * image_height,\n",
    "                        2,\n",
    "                    ),\n",
    "                )\n",
    "\n",
    "            for i in left_hand_coords:\n",
    "                lh_centroid_x_frame = lh_centroid_x_frame + (\n",
    "                    round(\n",
    "                        centroid_results.pose_landmarks.landmark[coord].x * image_width,\n",
    "                        2,\n",
    "                    ),\n",
    "                )\n",
    "                lh_centroid_y_frame = lh_centroid_y_frame + (\n",
    "                    round(\n",
    "                        centroid_results.pose_landmarks.landmark[coord].y\n",
    "                        * image_height,\n",
    "                        2,\n",
    "                    ),\n",
    "                )\n",
    "\n",
    "            # calculate centroid by taking the arithmetic mean of coordinates\n",
    "\n",
    "            rh_centroid_x = rh_centroid_x + (\n",
    "                round(sum(rh_centroid_x_frame) / len(rh_centroid_x_frame), 2),\n",
    "            )\n",
    "            rh_centroid_y = rh_centroid_y + (\n",
    "                round(sum(rh_centroid_y_frame) / len(rh_centroid_y_frame), 2),\n",
    "            )\n",
    "\n",
    "            lh_centroid_x = lh_centroid_x + (\n",
    "                round(sum(lh_centroid_x_frame) / len(lh_centroid_x_frame), 2),\n",
    "            )\n",
    "            lh_centroid_y = lh_centroid_y + (\n",
    "                round(sum(lh_centroid_y_frame) / len(lh_centroid_y_frame), 2),\n",
    "            )\n",
    "\n",
    "    cap.release()\n",
    "\n",
    "    centroid = {}\n",
    "    centroid[\"right_hand_x\"] = rh_centroid_x\n",
    "    centroid[\"right_hand_y\"] = rh_centroid_y\n",
    "    centroid[\"left_hand_x\"] = lh_centroid_x\n",
    "    centroid[\"left_hand_y\"] = lh_centroid_y\n",
    "\n",
    "    return centroid\n"
   ]
  },
  {
   "cell_type": "code",
   "execution_count": 28,
   "metadata": {},
   "outputs": [
    {
     "name": "stdout",
     "output_type": "stream",
     "text": [
      "4\n",
      "262\n"
     ]
    }
   ],
   "source": [
    "centroid = get_centroid_details(data_path)\n",
    "initial_no_frames = len(centroid[\"right_hand_x\"])\n",
    "\n",
    "print(len(centroid))\n",
    "print(initial_no_frames)\n"
   ]
  },
  {
   "cell_type": "markdown",
   "metadata": {},
   "source": [
    "## Calculating parameters from centroid values"
   ]
  },
  {
   "cell_type": "markdown",
   "metadata": {},
   "source": [
    "Finding out the hand distance parameter for all the frames, Eqn: <br>\n",
    "\n",
    "\n",
    "\\begin{equation}\n",
    "max(\\sqrt({(x_i^l-x_{i+1}^l)}^2+{(y_i^l-y_{i+1}^l)}^2), \\sqrt({(x_i^r-x_{i+1}^r)}^2+{(y_i^r-y_{i+1}^r)}^2))\n",
    "\\end{equation}"
   ]
  },
  {
   "cell_type": "code",
   "execution_count": 29,
   "metadata": {},
   "outputs": [],
   "source": [
    "right_x = centroid[\"right_hand_x\"]\n",
    "right_y = centroid[\"right_hand_y\"]\n",
    "left_x = centroid[\"left_hand_x\"]\n",
    "left_y = centroid[\"left_hand_y\"]\n",
    "\n",
    "hand_distance = []\n",
    "\n",
    "\n",
    "def euc_dist(x1, x2, y1, y2):\n",
    "    return ((x1 - x2) ** 2 + (y1 - y2) ** 2) ** 0.5\n",
    "\n",
    "\n",
    "for i in range(initial_no_frames - 1):\n",
    "    right_distance = euc_dist(right_x[i], right_x[i + 1], right_y[i], right_y[i + 1])\n",
    "    left_distance = euc_dist(left_x[i], left_x[i + 1], left_y[i], left_y[i + 1])\n",
    "    hand_distance.append(round(max(right_distance, left_distance), 2))\n"
   ]
  },
  {
   "cell_type": "markdown",
   "metadata": {},
   "source": [
    "Finding out the hand height parameter for all the frames, Eqn: <br>\n",
    "\\begin{equation}\n",
    "min(y_i^l, y_i^r)\n",
    "\\end{equation}\n"
   ]
  },
  {
   "cell_type": "code",
   "execution_count": 30,
   "metadata": {},
   "outputs": [],
   "source": [
    "hand_height = []\n",
    "for i in range(initial_no_frames):\n",
    "    hand_height.append(round(min(right_y[i], left_y[i]), 2))\n"
   ]
  },
  {
   "cell_type": "markdown",
   "metadata": {},
   "source": [
    "## Finding a threshold for hand distance"
   ]
  },
  {
   "cell_type": "markdown",
   "metadata": {},
   "source": [
    "Plotting the hand distance for each frame in the video file to see how the value changes."
   ]
  },
  {
   "cell_type": "code",
   "execution_count": 31,
   "metadata": {},
   "outputs": [
    {
     "data": {
      "image/png": "[encoded data removed]",
      "text/plain": [
       "<Figure size 432x288 with 1 Axes>"
      ]
     },
     "metadata": {},
     "output_type": "display_data"
    }
   ],
   "source": [
    "plt.scatter([i for i in range(0, initial_no_frames - 1)], hand_distance)\n",
    "\n",
    "plt.ylabel(\"Hand distance\")\n",
    "plt.xlabel(\"Frame number\")\n",
    "plt.show()\n"
   ]
  },
  {
   "cell_type": "markdown",
   "metadata": {},
   "source": [
    "Plotting a threshold that accepts frames that contain less than 10% hand movement compared to the maximum hand movement"
   ]
  },
  {
   "cell_type": "code",
   "execution_count": 32,
   "metadata": {},
   "outputs": [
    {
     "data": {
      "image/png": "[encoded data removed]",
      "text/plain": [
       "<Figure size 432x288 with 1 Axes>"
      ]
     },
     "metadata": {},
     "output_type": "display_data"
    }
   ],
   "source": [
    "plt.scatter([i for i in range(0, initial_no_frames - 1)], hand_distance)\n",
    "alpha = round(0.1 * max(hand_distance), 2)\n",
    "plt.plot([0, initial_no_frames], [alpha, alpha], color=\"green\")\n",
    "\n",
    "plt.ylabel(\"Hand distance\")\n",
    "plt.xlabel(\"Frame number\")\n",
    "plt.show()\n"
   ]
  },
  {
   "cell_type": "markdown",
   "metadata": {},
   "source": [
    "## Finding a threshold for hand height"
   ]
  },
  {
   "cell_type": "markdown",
   "metadata": {},
   "source": [
    "Plotting the hand height for each frame in the video file to see how the value changes."
   ]
  },
  {
   "cell_type": "code",
   "execution_count": 33,
   "metadata": {},
   "outputs": [
    {
     "data": {
      "image/png": "[encoded data removed]",
      "text/plain": [
       "<Figure size 432x288 with 1 Axes>"
      ]
     },
     "metadata": {},
     "output_type": "display_data"
    }
   ],
   "source": [
    "plt.scatter([i for i in range(0, initial_no_frames)], hand_height)\n",
    "plt.ylabel(\"Hand height\")\n",
    "plt.xlabel(\"Frame number\")\n",
    "plt.show()\n"
   ]
  },
  {
   "cell_type": "markdown",
   "metadata": {},
   "source": [
    "Calculating a list of the absolute change in hand height between current fame and previous frame to visualize how change in hand height varies over the course of the video."
   ]
  },
  {
   "cell_type": "code",
   "execution_count": 34,
   "metadata": {},
   "outputs": [
    {
     "name": "stdout",
     "output_type": "stream",
     "text": [
      "[9.17, 0.91, 2.46, 0.8, 0.56, 0.63, 0.36, 0.28, 0.04, 0.18, 0.84, 0.02, 1.96, 1.57, 1.03, 1.84, 7.25, 8.45, 6.33, 35.57, 7.84, 6.28, 83.94, 20.96, 5.61, 2.21, 2.4, 0.9, 2.38, 9.2, 7.2, 5.1, 1.85, 2.28, 3.57, 1.65, 0.19, 0.79, 0.46, 1.53, 2.13, 2.52, 0.99, 0.11, 0.76, 0.98, 0.2, 0.55, 0.97, 0.32, 0.28, 0.03, 0.35, 0.48, 0.3, 0.15, 1.46, 5.47, 2.93, 0.46, 0.3, 6.36, 13.24, 8.67, 11.67, 17.14, 2.91, 3.82, 4.03, 5.59, 16.34, 9.68, 20.42, 8.33, 8.97, 7.51, 3.4, 1.21, 0.14, 1.63, 1.17, 0.09, 0.15, 1.09, 0.41, 1.26, 0.74, 0.36, 7.89, 13.39, 8.83, 4.89, 5.5, 0.02, 0.75, 0.41, 2.17, 4.08, 5.82, 1.71, 11.49, 7.88, 2.58, 1.44, 2.27, 0.93, 0.19, 11.35, 6.88, 6.16, 4.32, 3.07, 1.47, 1.83, 0.46, 4.05, 6.03, 2.66, 1.58, 1.04, 0.67, 0.68, 0.37, 0.2, 0.05, 1.05, 3.94, 1.51, 2.78, 2.25, 2.77, 5.83, 1.65, 2.22, 0.28, 0.7, 0.11, 0.76, 2.88, 9.92, 13.24, 11.89, 13.7, 10.97, 5.78, 5.08, 5.85, 4.0, 4.52, 3.14, 1.76, 3.64, 1.84, 2.59, 2.06, 1.98, 0.79, 0.12, 0.01, 0.18, 0.02, 0.56, 1.2, 0.7, 1.17, 0.24, 0.21, 0.34, 3.73, 6.89, 10.15, 13.67, 14.53, 8.6, 13.81, 10.64, 5.78, 5.05, 5.4, 4.42, 3.12, 4.43, 1.63, 0.52, 0.77, 0.18, 0.56, 1.4, 1.36, 0.52, 0.36, 1.33, 0.08, 1.41, 2.43, 4.26, 1.25, 0.15, 1.25, 1.08, 0.62, 0.45, 1.48, 1.61, 1.67, 1.2, 0.2, 0.35, 0.35, 1.63, 1.15, 1.2, 0.68, 0.29, 0.13, 0.32, 0.32, 0.05, 0.12, 0.15, 0.39, 0.71, 1.54, 11.81, 11.57, 9.12, 15.47, 19.05, 32.59, 43.52, 12.17, 13.34, 10.5, 2.0, 0.76, 1.18, 0.43, 1.77, 1.09, 0.23, 2.41, 1.38, 0.18, 1.34, 0.41, 0.07, 0.83, 0.51, 0.07, 0.42, 0.09, 0.37, 0.42, 0.07, 1.32, 0.05, 1.18, 0.04, 0.04, 0.34, 1.4]\n",
      "262\n"
     ]
    }
   ],
   "source": [
    "hand_height_delta = []\n",
    "for i in range(len(hand_height) - 1):\n",
    "    hand_height_delta.append(abs(round(hand_height[i] - hand_height[i + 1], 2)))\n",
    "print((hand_height_delta))\n",
    "print(len(hand_height))\n"
   ]
  },
  {
   "cell_type": "code",
   "execution_count": 35,
   "metadata": {},
   "outputs": [
    {
     "data": {
      "image/png": "[encoded data removed]",
      "text/plain": [
       "<Figure size 432x288 with 1 Axes>"
      ]
     },
     "metadata": {},
     "output_type": "display_data"
    }
   ],
   "source": [
    "plt.scatter([i for i in range(0, initial_no_frames - 1)], hand_height_delta)\n",
    "\n",
    "plt.ylabel(\"Hand height delta\")\n",
    "plt.xlabel(\"Frame number\")\n",
    "plt.show()\n"
   ]
  },
  {
   "cell_type": "markdown",
   "metadata": {},
   "source": [
    "We can notice that the outliers in this graph lies at the beginnning and end of the video. These parts correspond to when there is maximum change in the hand height during the video. So I split the data into two halves and take the maximum value of each half. Then plot these values on the above graph."
   ]
  },
  {
   "cell_type": "code",
   "execution_count": 36,
   "metadata": {},
   "outputs": [],
   "source": [
    "hand_height_delta_one = hand_height_delta[: len(hand_height_delta) // 2]\n",
    "hand_height_delta_two = hand_height_delta[len(hand_height_delta) // 2 :]\n",
    "\n",
    "beta1_idx = hand_height_delta_one.index(max(hand_height_delta_one))\n",
    "beta2_idx = hand_height_delta_two.index(max(hand_height_delta_two)) + len(\n",
    "    hand_height_delta_one\n",
    ")\n"
   ]
  },
  {
   "cell_type": "code",
   "execution_count": 37,
   "metadata": {},
   "outputs": [
    {
     "data": {
      "image/png": "[encoded data removed]",
      "text/plain": [
       "<Figure size 432x288 with 1 Axes>"
      ]
     },
     "metadata": {},
     "output_type": "display_data"
    }
   ],
   "source": [
    "plt.scatter([i for i in range(0, initial_no_frames - 1)], hand_height_delta)\n",
    "\n",
    "plt.plot([beta1_idx, beta1_idx], [max(hand_height_delta), 0], color=\"green\")\n",
    "plt.plot([beta2_idx, beta2_idx], [max(hand_height_delta), 0], color=\"blue\")\n",
    "\n",
    "plt.ylabel(\"Hand height delta\")\n",
    "plt.xlabel(\"Frame number\")\n",
    "plt.show()\n"
   ]
  },
  {
   "cell_type": "markdown",
   "metadata": {},
   "source": [
    "Now plotting these values on the original hand height data, to verify that we found a good adaptive threshold"
   ]
  },
  {
   "cell_type": "code",
   "execution_count": 38,
   "metadata": {},
   "outputs": [
    {
     "data": {
      "image/png": "[encoded data removed]",
      "text/plain": [
       "<Figure size 432x288 with 1 Axes>"
      ]
     },
     "metadata": {},
     "output_type": "display_data"
    }
   ],
   "source": [
    "plt.scatter([i for i in range(0, initial_no_frames)], hand_height)\n",
    "\n",
    "plt.plot([beta1_idx, beta1_idx], [max(hand_height), 0], color=\"green\")\n",
    "plt.plot([beta2_idx, beta2_idx], [max(hand_height), 0], color=\"blue\")\n",
    "\n",
    "plt.ylabel(\"Hand height\")\n",
    "plt.xlabel(\"Frame number\")\n",
    "plt.show()\n"
   ]
  },
  {
   "cell_type": "markdown",
   "metadata": {},
   "source": [
    "Using the computed thresholds to output the processed video file, which will not include frames that are not passing the threshold values"
   ]
  },
  {
   "cell_type": "code",
   "execution_count": 39,
   "metadata": {},
   "outputs": [],
   "source": [
    "video = cv2.VideoCapture(data_path)\n",
    "output_path = os.path.join(\"../output/\", vid_file_name.split(\".\")[0] + \"_output.mp4\")\n",
    "fourcc = cv2.VideoWriter_fourcc(\"m\", \"p\", \"4\", \"v\")\n",
    "dim = (\n",
    "    int(video.get(cv2.CAP_PROP_FRAME_HEIGHT)),\n",
    "    int(video.get(cv2.CAP_PROP_FRAME_WIDTH)),\n",
    ")\n",
    "output = cv2.VideoWriter(output_path, fourcc, video.get(cv2.CAP_PROP_FPS), dim)\n",
    "\n",
    "frame_num = 0\n",
    "output_frames = 0\n",
    "while True:\n",
    "    ret, frame = video.read()\n",
    "    if not ret:\n",
    "        break\n",
    "    if (\n",
    "        hand_distance[frame_num - 1] > alpha\n",
    "        and frame_num != 0\n",
    "        and frame_num > beta1_idx\n",
    "        and frame_num < beta2_idx\n",
    "    ):\n",
    "        output.write(frame)\n",
    "        output_frames += 1\n",
    "    frame_num += 1\n",
    "output.release()\n"
   ]
  },
  {
   "cell_type": "markdown",
   "metadata": {},
   "source": [
    "Creating video summary dictionary to store the video metadata"
   ]
  },
  {
   "cell_type": "code",
   "execution_count": 40,
   "metadata": {},
   "outputs": [
    {
     "name": "stdout",
     "output_type": "stream",
     "text": [
      "Filename: sample1.mp4\n",
      "Hand_Height: [306.39, 315.56, 316.47, 318.93, 319.73, 319.17, 318.54, 318.18, 317.9, 317.86, 317.68, 316.84, 316.82, 314.86, 313.29, 312.26, 310.42, 303.17, 294.72, 288.39, 252.82, 244.98, 238.7, 154.76, 133.8, 128.19, 125.98, 123.58, 124.48, 122.1, 131.3, 138.5, 143.6, 145.45, 143.17, 139.6, 137.95, 138.14, 138.93, 139.39, 140.92, 143.05, 145.57, 146.56, 146.67, 147.43, 146.45, 146.25, 145.7, 144.73, 144.41, 144.69, 144.66, 144.31, 144.79, 145.09, 145.24, 146.7, 152.17, 155.1, 155.56, 155.26, 148.9, 135.66, 126.99, 115.32, 98.18, 95.27, 91.45, 95.48, 101.07, 117.41, 127.09, 147.51, 155.84, 164.81, 172.32, 175.72, 176.93, 177.07, 178.7, 177.53, 177.62, 177.77, 178.86, 179.27, 178.01, 177.27, 176.91, 169.02, 155.63, 146.8, 141.91, 136.41, 136.39, 135.64, 136.05, 138.22, 142.3, 148.12, 149.83, 161.32, 169.2, 171.78, 173.22, 175.49, 174.56, 174.37, 163.02, 156.14, 149.98, 145.66, 142.59, 141.12, 142.95, 143.41, 147.46, 153.49, 156.15, 157.73, 158.77, 159.44, 160.12, 160.49, 160.29, 160.34, 159.29, 155.35, 153.84, 151.06, 148.81, 146.04, 140.21, 138.56, 136.34, 136.06, 135.36, 135.25, 136.01, 138.89, 148.81, 162.05, 173.94, 187.64, 198.61, 204.39, 209.47, 215.32, 219.32, 223.84, 226.98, 228.74, 232.38, 234.22, 236.81, 238.87, 240.85, 241.64, 241.76, 241.75, 241.57, 241.59, 242.15, 243.35, 244.05, 245.22, 245.46, 245.67, 245.33, 241.6, 234.71, 224.56, 210.89, 196.36, 187.76, 173.95, 163.31, 157.53, 152.48, 147.08, 142.66, 139.54, 135.11, 133.48, 134.0, 134.77, 134.95, 134.39, 135.79, 137.15, 137.67, 138.03, 139.36, 139.44, 138.03, 135.6, 131.34, 130.09, 129.94, 128.69, 127.61, 128.23, 128.68, 127.2, 125.59, 123.92, 122.72, 122.92, 123.27, 123.62, 125.25, 126.4, 127.6, 128.28, 128.57, 128.7, 129.02, 129.34, 129.39, 129.51, 129.66, 130.05, 130.76, 132.3, 144.11, 155.68, 164.8, 180.27, 199.32, 231.91, 275.43, 287.6, 300.94, 311.44, 309.44, 308.68, 307.5, 307.93, 309.7, 310.79, 311.02, 313.43, 314.81, 314.63, 313.29, 312.88, 312.95, 312.12, 311.61, 311.54, 311.96, 311.87, 312.24, 312.66, 312.59, 313.91, 313.86, 312.68, 312.72, 312.68, 312.34, 310.94]\n",
      "Hand_Distance: [9.6, 2.49, 2.46, 0.81, 0.58, 0.64, 0.36, 0.28, 0.26, 0.82, 0.85, 0.44, 2.01, 1.66, 1.03, 1.88, 7.34, 15.03, 6.48, 35.8, 8.78, 15.55, 84.65, 21.41, 6.61, 3.41, 2.58, 2.13, 8.33, 16.0, 11.84, 10.03, 2.6, 4.03, 4.36, 2.1, 0.73, 1.95, 1.29, 1.57, 2.58, 2.55, 3.29, 3.82, 1.84, 4.29, 2.95, 2.29, 2.62, 0.81, 0.64, 0.09, 0.36, 0.82, 0.8, 1.63, 2.04, 6.45, 3.34, 0.69, 2.89, 8.74, 15.45, 13.66, 14.85, 19.18, 5.06, 4.04, 4.04, 5.67, 16.47, 19.35, 24.37, 20.63, 9.87, 7.71, 3.41, 1.4, 0.34, 1.85, 2.64, 0.31, 0.25, 1.41, 0.87, 1.45, 3.65, 8.11, 12.95, 13.96, 8.88, 5.32, 5.87, 2.79, 4.54, 3.79, 3.97, 5.69, 6.63, 6.57, 11.55, 7.9, 3.4, 1.78, 3.54, 2.33, 1.71, 11.37, 7.86, 7.5, 5.39, 7.69, 11.26, 5.92, 3.21, 5.23, 6.03, 2.79, 1.66, 1.06, 1.04, 1.08, 1.54, 2.7, 5.69, 3.56, 8.5, 10.13, 7.47, 4.55, 3.95, 8.05, 2.4, 3.2, 0.46, 0.7, 0.3, 1.01, 3.47, 12.07, 14.63, 13.08, 14.26, 14.86, 7.47, 6.6, 6.31, 4.02, 4.52, 3.28, 1.81, 3.66, 2.2, 2.62, 2.07, 2.14, 1.02, 0.29, 0.47, 0.74, 1.31, 1.82, 1.48, 1.38, 1.2, 0.45, 0.45, 1.69, 5.22, 7.41, 17.03, 18.3, 19.21, 14.08, 17.36, 12.9, 9.23, 6.32, 5.89, 4.56, 3.6, 4.51, 1.82, 0.88, 0.9, 0.22, 0.62, 1.4, 1.43, 0.74, 0.43, 1.34, 0.26, 1.53, 2.64, 4.54, 1.57, 1.04, 2.1, 2.0, 0.65, 0.81, 1.96, 1.87, 2.88, 2.49, 0.32, 0.46, 0.95, 2.04, 1.58, 1.51, 0.86, 0.38, 0.16, 0.33, 0.32, 0.05, 0.12, 0.15, 0.44, 0.95, 1.85, 11.95, 11.76, 9.29, 17.95, 21.5, 33.46, 43.74, 15.83, 14.03, 10.5, 2.02, 1.76, 1.85, 0.98, 2.94, 2.63, 0.98, 2.98, 7.84, 2.73, 1.57, 1.77, 0.95, 2.15, 0.71, 0.24, 0.42, 0.1, 0.38, 0.42, 0.07, 3.22, 0.2, 1.18, 2.05, 1.1, 1.68, 1.41]\n",
      "Initial_Frame_Count: 262\n",
      "Post_KFS_Frame_Count: 40\n",
      "Percentage_Reduction: 84.73\n",
      "Hand_Height_Threshold_Value: [22, 229]\n",
      "Hand_Distance_Threshold_Value: 8.47\n"
     ]
    }
   ],
   "source": [
    "video_summary = {}\n",
    "video_summary[\"Filename\"] = vid_file_name\n",
    "video_summary[\"Hand_Height\"] = hand_height\n",
    "video_summary[\"Hand_Distance\"] = hand_distance\n",
    "video_summary[\"Initial_Frame_Count\"] = initial_no_frames\n",
    "video_summary[\"Post_KFS_Frame_Count\"] = output_frames\n",
    "video_summary[\"Percentage_Reduction\"] = round(\n",
    "    ((initial_no_frames - output_frames) / initial_no_frames) * 100, 2\n",
    ")\n",
    "video_summary[\"Hand_Height_Threshold_Value\"] = [beta1_idx, beta2_idx]\n",
    "video_summary[\"Hand_Distance_Threshold_Value\"] = alpha\n",
    "\n",
    "output_path = os.path.join(\"../output/\", vid_file_name.split(\".\")[0] + \"_output.json\")\n",
    "\n",
    "with open(output_path, \"w\") as f:\n",
    "    f.write(json.dumps(video_summary))\n",
    "\n",
    "for detail in video_summary:\n",
    "    print(f\"{detail}: {video_summary[detail]}\")\n"
   ]
  },
  {
   "cell_type": "markdown",
   "metadata": {},
   "source": [
    "## Insights and Summary\n"
   ]
  },
  {
   "cell_type": "markdown",
   "metadata": {},
   "source": [
    "Two parameters were calculated and keyframe selection was done using them. In this task, I used 2 methods to automatically calculate a threshold for any particular video.\n",
    "\n",
    "For the hand distance, the frames between which the hand distances were small, are very similar and do not contribute anything of value. These values needed to be removed. On plotting the hand distance vs no. of frame graph, it was clear that we could remove most of the lower values. I removed the unwanted frames by taking a threshold of 10% of the maximum hand distance.\n",
    "\n",
    "For the hand height, on plotting it, it was clear that there were periods during the beginning and ending part of the video, that the hands stayed at a particular height. So, I decided to go with an average of all the values. I felt like this should give a value somewhere in the middle, and we would be able to remove most of the redundant frames."
   ]
  },
  {
   "cell_type": "code",
   "execution_count": 41,
   "metadata": {},
   "outputs": [
    {
     "name": "stdout",
     "output_type": "stream",
     "text": [
      "============== Summary of ../output/sample1_output.json ==============\n",
      "Initial Frame Count: 262\n",
      "Post KFS Frame Count: 40\n",
      "Percentage Reduction: 84.73%\n",
      "============== Summary of ../output/sample2_output.json ==============\n",
      "Initial Frame Count: 155\n",
      "Post KFS Frame Count: 30\n",
      "Percentage Reduction: 80.65%\n",
      "============== Summary of ../output/sample3_output.json ==============\n",
      "Initial Frame Count: 251\n",
      "Post KFS Frame Count: 53\n",
      "Percentage Reduction: 78.88%\n",
      "============== Summary of ../output/sample4_output.json ==============\n",
      "Initial Frame Count: 187\n",
      "Post KFS Frame Count: 71\n",
      "Percentage Reduction: 62.03%\n",
      "============== Summary of ../output/sample5_output.json ==============\n",
      "Initial Frame Count: 226\n",
      "Post KFS Frame Count: 66\n",
      "Percentage Reduction: 70.8%\n",
      "============== Summary of ../output/sample6_output.json ==============\n",
      "Initial Frame Count: 268\n",
      "Post KFS Frame Count: 103\n",
      "Percentage Reduction: 61.57%\n"
     ]
    }
   ],
   "source": [
    "sorted_filenames = []\n",
    "for filename in os.listdir(\"../output\"):\n",
    "    filepath = os.path.join(\"../output\", filename)\n",
    "    if os.path.isfile(filepath) and os.path.splitext(filepath)[1] == \".json\":\n",
    "        sorted_filenames.append(filepath)\n",
    "\n",
    "sorted_filenames.sort()\n",
    "\n",
    "for file in sorted_filenames:\n",
    "    with open(file) as f:\n",
    "        data = json.load(f)\n",
    "\n",
    "    print(f\"============== Summary of {file} ==============\")\n",
    "    print(f\"Initial Frame Count: {data['Initial_Frame_Count']}\")\n",
    "    print(f\"Post KFS Frame Count: {data['Post_KFS_Frame_Count']}\")\n",
    "    print(f\"Percentage Reduction: {data['Percentage_Reduction']}%\")\n"
   ]
  }
 ],
 "metadata": {
  "interpreter": {
   "hash": "ebbf05a9a14a51d2950afd54f8df4f4eca38023b961d211f69891aa0932a105a"
  },
  "kernelspec": {
   "display_name": "Python 3.8.10 ('env': venv)",
   "language": "python",
   "name": "python3"
  },
  "language_info": {
   "codemirror_mode": {
    "name": "ipython",
    "version": 3
   },
   "file_extension": ".py",
   "mimetype": "text/x-python",
   "name": "python",
   "nbconvert_exporter": "python",
   "pygments_lexer": "ipython3",
   "version": "3.10.4"
  },
  "orig_nbformat": 4
 },
 "nbformat": 4,
 "nbformat_minor": 2
}
