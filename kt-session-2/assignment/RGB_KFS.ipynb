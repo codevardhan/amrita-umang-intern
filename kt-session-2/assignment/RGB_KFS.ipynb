{
 "cells": [
  {
   "cell_type": "code",
   "execution_count": 158,
   "metadata": {},
   "outputs": [],
   "source": [
    "import mediapipe as mp\n",
    "import cv2\n",
    "import os\n",
    "import json\n",
    "import numpy as np\n",
    "import matplotlib.pyplot as plt\n",
    "\n",
    "plt.style.use('ggplot')"
   ]
  },
  {
   "cell_type": "markdown",
   "metadata": {},
   "source": [
    "## Data Loading"
   ]
  },
  {
   "cell_type": "code",
   "execution_count": 159,
   "metadata": {},
   "outputs": [],
   "source": [
    "data_path=\"../../data/sample_videos/sample6.mp4\"\n",
    "\n",
    "_, vid_file_name = os.path.split(data_path)\n",
    "video = cv2.VideoCapture(data_path)"
   ]
  },
  {
   "cell_type": "markdown",
   "metadata": {},
   "source": [
    "## Video Processing"
   ]
  },
  {
   "cell_type": "code",
   "execution_count": 160,
   "metadata": {},
   "outputs": [],
   "source": [
    "def get_centroid_details(file_path):\n",
    "    \"\"\"This function gets pose details from mediapipe\n",
    "\n",
    "    Args:\n",
    "        file_path (string): This is the path of the video file\n",
    "        visualize (bool, optional): Provides a visualization for the pose tracking. Defaults to False.\n",
    "\n",
    "    Returns:\n",
    "        dict: This dictionary contains a list of upper body pose estimates\n",
    "    \"\"\"\n",
    "    cap = cv2.VideoCapture(file_path)\n",
    "    mp_pose = mp.solutions.pose\n",
    "\n",
    "    rh_centroid_x = ()\n",
    "    rh_centroid_y = ()\n",
    "\n",
    "    lh_centroid_x = ()\n",
    "    lh_centroid_y = ()\n",
    "\n",
    "    with mp_pose.Pose(\n",
    "        min_detection_confidence=0.5, min_tracking_confidence=0.5\n",
    "    ) as pose:\n",
    "        while cap.isOpened():\n",
    "            success, image = cap.read()\n",
    "            if not success:\n",
    "                break\n",
    "\n",
    "            image.flags.writeable = False\n",
    "            image = cv2.cvtColor(image, cv2.COLOR_BGR2RGB)\n",
    "            image_height, image_width, _ = image.shape\n",
    "\n",
    "            centroid_results = pose.process(image)\n",
    "\n",
    "            rh_centroid_x_frame = ()\n",
    "            rh_centroid_y_frame = ()\n",
    "\n",
    "            lh_centroid_x_frame = ()\n",
    "            lh_centroid_y_frame = ()\n",
    "\n",
    "            right_hand_coords=[16, 18, 20, 22]\n",
    "            left_hand_coords=[15, 17, 21, 19]\n",
    "\n",
    "            for coord in (right_hand_coords):\n",
    "                # rh_centroid_x_frame.append(\n",
    "                #     round(centroid_results.pose_landmarks.landmark[i].x * image_width, 2)\n",
    "                # )\n",
    "                # rh_centroid_y_frame.append(\n",
    "                #     round(centroid_results.pose_landmarks.landmark[i].y * image_height, 2)\n",
    "                # )\n",
    "                   \n",
    "                rh_centroid_x_frame = rh_centroid_x_frame + (round(centroid_results.pose_landmarks.landmark[coord].x * image_width, 2),)\n",
    "                rh_centroid_y_frame = rh_centroid_y_frame + (round(centroid_results.pose_landmarks.landmark[coord].y * image_height, 2),)\n",
    "\n",
    "            for i in (left_hand_coords):\n",
    "                # lh_centroid_x_frame.append(\n",
    "                #     round(centroid_results.pose_landmarks.landmark[i].x * image_width, 2)\n",
    "                # )\n",
    "                # lh_centroid_y_frame.append(\n",
    "                #     round(centroid_results.pose_landmarks.landmark[i].y * image_height, 2)\n",
    "                # )\n",
    "\n",
    "                lh_centroid_x_frame = lh_centroid_x_frame + (round(centroid_results.pose_landmarks.landmark[coord].x * image_width, 2),)\n",
    "                lh_centroid_y_frame = lh_centroid_y_frame + (round(centroid_results.pose_landmarks.landmark[coord].y * image_height, 2),)\n",
    "\n",
    "            # calculate centroid by taking the arithmetic mean of coordinates\n",
    "\n",
    "            # rh_centroid_x.append(round(sum(rh_centroid_x_frame)/len(rh_centroid_x_frame), 2))\n",
    "            # rh_centroid_y.append(round(sum(rh_centroid_y_frame)/len(rh_centroid_y_frame), 2))\n",
    "\n",
    "            # lh_centroid_x.append(round(sum(lh_centroid_x_frame)/len(lh_centroid_x_frame), 2))\n",
    "            # lh_centroid_y.append(round(sum(lh_centroid_y_frame)/len(lh_centroid_y_frame), 2))\n",
    "\n",
    "            rh_centroid_x = rh_centroid_x + (round(sum(rh_centroid_x_frame)/len(rh_centroid_x_frame), 2), )\n",
    "            rh_centroid_y = rh_centroid_y + (round(sum(rh_centroid_y_frame)/len(rh_centroid_y_frame), 2), )\n",
    "\n",
    "            lh_centroid_x = lh_centroid_x + (round(sum(lh_centroid_x_frame)/len(lh_centroid_x_frame), 2), )\n",
    "            lh_centroid_y = lh_centroid_y + (round(sum(lh_centroid_y_frame)/len(lh_centroid_y_frame), 2), )\n",
    "\n",
    "    cap.release()\n",
    "    \n",
    "    centroid={}\n",
    "    centroid[\"right_hand_x\"]=rh_centroid_x\n",
    "    centroid[\"right_hand_y\"]=rh_centroid_y\n",
    "    centroid[\"left_hand_x\"]=lh_centroid_x\n",
    "    centroid[\"left_hand_y\"]=lh_centroid_y\n",
    "\n",
    "    return centroid"
   ]
  },
  {
   "cell_type": "code",
   "execution_count": 161,
   "metadata": {},
   "outputs": [
    {
     "name": "stdout",
     "output_type": "stream",
     "text": [
      "4\n",
      "268\n"
     ]
    }
   ],
   "source": [
    "centroid = get_centroid_details(data_path)\n",
    "initial_no_frames=len(centroid[\"right_hand_x\"])\n",
    "\n",
    "print(len(centroid))\n",
    "print(initial_no_frames)"
   ]
  },
  {
   "cell_type": "markdown",
   "metadata": {},
   "source": [
    "## Calculating parameters from centroid values"
   ]
  },
  {
   "cell_type": "markdown",
   "metadata": {},
   "source": [
    "Finding out the hand distance parameter for all the frames, Eqn: <br>\n",
    "\n",
    "\n",
    "\\begin{equation}\n",
    "max(\\sqrt({(x_i^l-x_{i-1}^l)}^2+{(y_i^l-y_{i-1}^l)}^2), \\sqrt({(x_i^r-x_{i-1}^r)}^2+{(y_i^r-y_{i-1}^r)}^2))\n",
    "\\end{equation}"
   ]
  },
  {
   "cell_type": "code",
   "execution_count": 162,
   "metadata": {},
   "outputs": [],
   "source": [
    "right_x = centroid[\"right_hand_x\"]\n",
    "right_y = centroid[\"right_hand_y\"]\n",
    "left_x = centroid[\"left_hand_x\"]\n",
    "left_y = centroid[\"left_hand_y\"]\n",
    "\n",
    "hand_distance=[]\n",
    "\n",
    "def euc_dist(x1, x2, y1, y2):\n",
    "    return ((x1 - x2)**2 + (y1 - y2)**2)**0.5\n",
    "\n",
    "for i in range(1, initial_no_frames):\n",
    "    right_distance = euc_dist(right_x[i], right_x[i-1], right_y[i], right_y[i-1])\n",
    "    left_distance = euc_dist(left_x[i], left_x[i-1], left_y[i], left_y[i-1])\n",
    "    hand_distance.append(round(max(right_distance, left_distance), 2))\n"
   ]
  },
  {
   "cell_type": "markdown",
   "metadata": {},
   "source": [
    "Finding out the hand height parameter for all the frames, Eqn: <br>\n",
    "\\begin{equation}\n",
    "min(y_i^l, y_i^r)\n",
    "\\end{equation}\n"
   ]
  },
  {
   "cell_type": "code",
   "execution_count": 163,
   "metadata": {},
   "outputs": [],
   "source": [
    "hand_height=[]\n",
    "for i in range(initial_no_frames):\n",
    "    hand_height.append(min(right_y[i], left_y[i]))\n"
   ]
  },
  {
   "cell_type": "markdown",
   "metadata": {},
   "source": [
    "Plotting the hand distance for each frame in the video file to see how the value changes. Also plotting a threshold that accepts frames that contain less than 10% hand movement comapred to the maximum hand movement"
   ]
  },
  {
   "cell_type": "code",
   "execution_count": 164,
   "metadata": {},
   "outputs": [
    {
     "data": {
      "image/png": "[encoded data removed]",
      "text/plain": [
       "<Figure size 432x288 with 1 Axes>"
      ]
     },
     "metadata": {},
     "output_type": "display_data"
    }
   ],
   "source": [
    "plt.scatter([i for i in range(0, initial_no_frames-1)], hand_distance)\n",
    "alpha=round(0.1*max(hand_distance), 2)\n",
    "plt.plot([0, initial_no_frames], [alpha, alpha], color=\"green\")\n",
    "\n",
    "plt.ylabel(\"Hand distance\")\n",
    "plt.xlabel(\"Frame number\")\n",
    "plt.show()\n"
   ]
  },
  {
   "cell_type": "markdown",
   "metadata": {},
   "source": [
    "Plotting the hand height for each frame in the video file to see how the value changes. Also plotting a line through the average of hand height values to represent a threshold to select the frames"
   ]
  },
  {
   "cell_type": "code",
   "execution_count": null,
   "metadata": {},
   "outputs": [],
   "source": [
    "# hand_height_dx=[]\n",
    "# for i in range(hand_height):\n",
    "#     print(hand_height_dx.append())"
   ]
  },
  {
   "cell_type": "code",
   "execution_count": 165,
   "metadata": {},
   "outputs": [
    {
     "data": {
      "image/png": "[encoded data removed]",
      "text/plain": [
       "<Figure size 432x288 with 1 Axes>"
      ]
     },
     "metadata": {},
     "output_type": "display_data"
    }
   ],
   "source": [
    "plt.scatter([i for i in range(0, initial_no_frames)], hand_height)\n",
    "beta=round(sum(hand_height)/len(hand_height), 2)\n",
    "plt.plot([0, initial_no_frames], [beta, beta], color=\"green\")\n",
    "\n",
    "\n",
    "plt.ylabel(\"Hand height\")\n",
    "plt.xlabel(\"Frame number\")\n",
    "plt.show()"
   ]
  },
  {
   "cell_type": "markdown",
   "metadata": {},
   "source": [
    "Using the computed thresholds to output the processed video file, which will not include frames that are not passing the threshold values"
   ]
  },
  {
   "cell_type": "code",
   "execution_count": 166,
   "metadata": {},
   "outputs": [],
   "source": [
    "video = cv2.VideoCapture(data_path)\n",
    "output_path = os.path.join(\"../output/\", vid_file_name.split(\".\")[0] + \"_output.mp4\")\n",
    "fourcc = cv2.VideoWriter_fourcc(\"m\", \"p\", \"4\", \"v\")\n",
    "dim=(int(video.get(cv2.CAP_PROP_FRAME_HEIGHT)), int(video.get(cv2.CAP_PROP_FRAME_WIDTH)))\n",
    "output = cv2.VideoWriter(output_path, fourcc, video.get(cv2.CAP_PROP_FPS), dim)\n",
    "\n",
    "frame_num=0\n",
    "output_frames=0\n",
    "while True:\n",
    "    ret, frame = video.read()\n",
    "    if not ret:\n",
    "        break\n",
    "    if(hand_distance[frame_num-1]>alpha and frame_num!=0 and hand_height[frame_num]<beta):\n",
    "        output.write(frame)\n",
    "        output_frames+=1\n",
    "    frame_num+=1\n",
    "output.release()\n"
   ]
  },
  {
   "cell_type": "markdown",
   "metadata": {},
   "source": [
    "Creating video summary dictionary to store the video metadata"
   ]
  },
  {
   "cell_type": "code",
   "execution_count": 167,
   "metadata": {},
   "outputs": [
    {
     "name": "stdout",
     "output_type": "stream",
     "text": [
      "Filename: sample6.mp4\n",
      "Hand_Height: [296.64, 299.49, 300.0, 299.92, 299.96, 299.92, 299.92, 300.27, 300.75, 301.74, 302.61, 302.59, 302.56, 302.44, 302.3, 300.96, 298.1, 293.29, 289.88, 290.05, 290.87, 291.36, 288.89, 282.88, 272.11, 256.65, 240.94, 224.65, 208.92, 196.67, 183.83, 177.85, 172.97, 166.31, 166.61, 165.84, 161.57, 158.31, 154.53, 154.72, 155.65, 156.23, 158.0, 157.91, 157.68, 158.4, 156.73, 156.73, 151.74, 150.5, 148.45, 149.21, 149.85, 150.3, 151.49, 152.92, 152.97, 153.02, 151.07, 149.64, 148.21, 146.75, 145.05, 145.39, 145.54, 145.57, 145.81, 145.98, 146.34, 146.4, 145.66, 143.43, 141.0, 138.11, 129.99, 123.06, 116.19, 111.05, 104.29, 101.58, 99.68, 98.81, 98.32, 100.83, 102.09, 109.07, 119.21, 128.94, 140.25, 148.14, 157.07, 163.07, 165.64, 166.69, 166.91, 166.33, 164.38, 162.67, 161.58, 161.16, 160.58, 160.31, 164.19, 167.52, 167.54, 167.63, 168.19, 167.98, 167.73, 167.57, 167.5, 167.61, 166.74, 166.5, 165.25, 164.46, 164.04, 163.99, 163.88, 162.98, 159.2, 156.53, 151.52, 149.3, 150.32, 155.37, 162.63, 166.49, 171.4, 173.29, 172.67, 172.12, 171.81, 171.56, 164.39, 157.04, 152.72, 151.25, 152.64, 155.17, 155.53, 155.6, 155.97, 156.04, 155.12, 146.77, 143.31, 133.75, 130.0, 127.85, 127.39, 128.42, 131.31, 138.88, 148.04, 157.6, 170.09, 183.33, 194.85, 206.5, 215.65, 219.31, 221.84, 225.38, 225.89, 226.27, 227.24, 227.55, 226.56, 225.58, 225.02, 224.48, 221.66, 214.89, 208.15, 203.02, 195.82, 189.17, 183.89, 177.0, 176.24, 176.41, 176.35, 174.36, 173.27, 173.57, 174.2, 174.07, 171.9, 171.87, 170.97, 166.84, 164.96, 160.38, 158.53, 154.13, 154.5, 154.05, 155.17, 155.85, 155.64, 153.31, 149.56, 147.38, 144.6, 140.0, 136.8, 133.93, 130.18, 126.05, 126.51, 127.42, 125.77, 125.42, 124.25, 124.37, 124.65, 123.58, 123.83, 124.16, 125.06, 128.01, 129.11, 129.56, 131.42, 133.07, 133.33, 133.96, 135.77, 138.16, 141.62, 142.03, 146.85, 147.72, 152.4, 159.05, 164.03, 164.65, 165.71, 166.0, 165.69, 166.1, 166.49, 169.85, 175.82, 190.88, 203.77, 224.96, 242.35, 261.21, 277.05, 281.02, 284.33, 283.31, 281.25, 280.36, 279.9, 280.28, 280.71, 279.38, 278.91, 278.04, 277.39, 277.11, 276.8, 276.69, 276.56, 276.36]\n",
      "Hand_Distance: [15.68, 2.22, 1.51, 0.48, 0.69, 0.73, 1.8, 0.85, 1.44, 1.28, 0.49, 0.35, 0.22, 0.61, 5.99, 5.72, 12.64, 3.42, 4.63, 0.97, 0.9, 11.6, 14.52, 12.55, 16.01, 17.31, 16.5, 16.54, 12.29, 14.14, 6.04, 5.94, 7.64, 1.32, 1.45, 4.92, 3.38, 3.88, 1.37, 1.05, 0.67, 2.37, 0.36, 0.23, 0.72, 2.16, 0.33, 5.14, 1.54, 2.92, 0.77, 0.83, 0.51, 2.25, 1.61, 0.57, 0.83, 1.95, 1.71, 1.8, 1.6, 2.44, 0.53, 0.23, 0.37, 0.24, 0.17, 0.55, 0.97, 0.84, 2.49, 3.16, 4.02, 8.5, 6.93, 6.88, 5.24, 6.84, 2.92, 2.81, 2.97, 0.89, 2.6, 1.26, 7.31, 10.22, 9.8, 12.76, 9.2, 9.5, 6.1, 3.16, 2.21, 1.26, 1.3, 2.08, 1.82, 1.15, 0.48, 0.58, 3.87, 4.84, 10.53, 6.06, 0.4, 2.37, 1.15, 1.02, 2.4, 3.29, 0.78, 0.99, 1.45, 3.99, 1.66, 0.42, 0.48, 5.51, 4.52, 9.77, 4.24, 13.75, 9.26, 7.06, 6.94, 9.83, 5.36, 5.28, 1.95, 1.17, 0.59, 2.7, 3.73, 7.17, 8.65, 12.12, 12.06, 6.49, 6.34, 1.37, 1.5, 1.06, 1.51, 2.87, 10.33, 6.22, 10.04, 4.24, 2.32, 0.8, 2.05, 6.89, 8.8, 9.17, 10.64, 13.5, 13.73, 12.39, 12.14, 9.96, 4.67, 2.71, 4.44, 1.89, 0.86, 0.97, 0.41, 1.03, 1.5, 3.91, 4.07, 4.1, 9.38, 8.33, 8.68, 9.14, 7.59, 6.2, 7.06, 2.99, 4.05, 1.77, 2.21, 1.89, 2.74, 2.36, 0.96, 2.45, 0.93, 0.99, 4.16, 1.93, 4.65, 2.38, 4.93, 0.63, 0.45, 1.86, 1.68, 1.23, 2.92, 5.2, 2.8, 3.1, 4.64, 4.71, 3.78, 4.66, 4.32, 0.62, 0.92, 2.12, 0.85, 1.36, 0.71, 1.32, 4.12, 0.25, 0.45, 0.91, 3.02, 1.39, 1.27, 2.16, 1.75, 0.65, 0.89, 3.55, 3.4, 4.93, 2.65, 5.23, 3.84, 6.08, 7.47, 5.7, 0.93, 1.33, 0.4, 1.22, 0.74, 0.64, 3.8, 9.14, 16.7, 20.8, 22.04, 19.01, 19.64, 15.86, 5.73, 3.57, 1.47, 2.07, 1.75, 0.67, 0.59, 0.5, 1.61, 0.48, 1.1, 0.71, 0.6, 0.43, 0.21, 0.16, 0.2]\n",
      "Initial_Frame_Count: 268\n",
      "Post_KFS_Frame_Count: 103\n",
      "Percentage_Reduction: 61.57\n",
      "Hand_Height_Threshold_Value: 180.93\n",
      "Hand_Distance_Threshold_Value: 2.2\n"
     ]
    }
   ],
   "source": [
    "video_summary={}\n",
    "video_summary[\"Filename\"]=vid_file_name\n",
    "video_summary[\"Hand_Height\"]=hand_height\n",
    "video_summary[\"Hand_Distance\"]=hand_distance\n",
    "video_summary[\"Initial_Frame_Count\"]=initial_no_frames\n",
    "video_summary[\"Post_KFS_Frame_Count\"]=output_frames\n",
    "video_summary[\"Percentage_Reduction\"]=round(((initial_no_frames-output_frames)/initial_no_frames)*100, 2)\n",
    "video_summary[\"Hand_Height_Threshold_Value\"]=beta\n",
    "video_summary[\"Hand_Distance_Threshold_Value\"]=alpha\n",
    "\n",
    "output_path = os.path.join(\"../output/\", vid_file_name.split(\".\")[0] + \"_output.json\")\n",
    "\n",
    "with open(output_path, \"w\") as f:\n",
    "    f.write(json.dumps(video_summary))\n",
    "\n",
    "for detail in video_summary:\n",
    "    print(f\"{detail}: {video_summary[detail]}\" )"
   ]
  },
  {
   "cell_type": "markdown",
   "metadata": {},
   "source": [
    "## Insights and Summary\n"
   ]
  },
  {
   "cell_type": "markdown",
   "metadata": {},
   "source": [
    "Two parameters were calculated and keyframe selection was done using them. In this task, I used 2 methods to automatically calculate a threshold for any particular video.\n",
    "\n",
    "For the hand distance, the frames between which the hand distances were small, are very similar and do not contribute anything of value. These values needed to be removed. On plotting the hand distance vs no. of frame graph, it was clear that we could remove most of the lower values. I removed the unwanted frames by taking a threshold of 10% of the maximum hand distance.\n",
    "\n",
    "For the hand height, on plotting it, it was clear that there were periods during the beginning and ending part of the video, that the hands stayed at a particular height. So, I decided to go with an average of all the values. I felt like this should give a value somewhere in the middle, and we would be able to remove most of the redundant frames."
   ]
  },
  {
   "cell_type": "code",
   "execution_count": 168,
   "metadata": {},
   "outputs": [
    {
     "name": "stdout",
     "output_type": "stream",
     "text": [
      "============== Summary of ../output/sample1_output.json ==============\n",
      "Initial Frame Count: 262\n",
      "Post KFS Frame Count: 35\n",
      "Percentage Reduction: 86.64%\n",
      "============== Summary of ../output/sample2_output.json ==============\n",
      "Initial Frame Count: 155\n",
      "Post KFS Frame Count: 30\n",
      "Percentage Reduction: 80.65%\n",
      "============== Summary of ../output/sample3_output.json ==============\n",
      "Initial Frame Count: 251\n",
      "Post KFS Frame Count: 53\n",
      "Percentage Reduction: 78.88%\n",
      "============== Summary of ../output/sample4_output.json ==============\n",
      "Initial Frame Count: 187\n",
      "Post KFS Frame Count: 71\n",
      "Percentage Reduction: 62.03%\n",
      "============== Summary of ../output/sample5_output.json ==============\n",
      "Initial Frame Count: 226\n",
      "Post KFS Frame Count: 66\n",
      "Percentage Reduction: 70.8%\n",
      "============== Summary of ../output/sample6_output.json ==============\n",
      "Initial Frame Count: 268\n",
      "Post KFS Frame Count: 103\n",
      "Percentage Reduction: 61.57%\n"
     ]
    }
   ],
   "source": [
    "sorted_filenames=[]\n",
    "for filename in os.listdir(\"../output\"):\n",
    "    filepath = os.path.join(\"../output\", filename)\n",
    "    if os.path.isfile(filepath) and os.path.splitext(filepath)[1]=='.json':\n",
    "        sorted_filenames.append(filepath)\n",
    "\n",
    "sorted_filenames.sort()\n",
    "\n",
    "for file in sorted_filenames:\n",
    "    with open(file) as f:\n",
    "        data = json.load(f)\n",
    "\n",
    "    print(f\"============== Summary of {file} ==============\")\n",
    "    print(f\"Initial Frame Count: {data['Initial_Frame_Count']}\")\n",
    "    print(f\"Post KFS Frame Count: {data['Post_KFS_Frame_Count']}\")\n",
    "    print(f\"Percentage Reduction: {data['Percentage_Reduction']}%\")\n"
   ]
  }
 ],
 "metadata": {
  "interpreter": {
   "hash": "ebbf05a9a14a51d2950afd54f8df4f4eca38023b961d211f69891aa0932a105a"
  },
  "kernelspec": {
   "display_name": "Python 3.8.10 ('env': venv)",
   "language": "python",
   "name": "python3"
  },
  "language_info": {
   "codemirror_mode": {
    "name": "ipython",
    "version": 3
   },
   "file_extension": ".py",
   "mimetype": "text/x-python",
   "name": "python",
   "nbconvert_exporter": "python",
   "pygments_lexer": "ipython3",
   "version": "3.10.4"
  },
  "orig_nbformat": 4
 },
 "nbformat": 4,
 "nbformat_minor": 2
}
