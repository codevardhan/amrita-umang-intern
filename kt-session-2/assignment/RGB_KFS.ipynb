{
 "cells": [
  {
   "cell_type": "code",
   "execution_count": 1,
   "metadata": {},
   "outputs": [],
   "source": [
    "import mediapipe as mp\n",
    "import cv2\n",
    "import os\n",
    "import json\n",
    "import numpy as np\n",
    "import matplotlib.pyplot as plt\n",
    "\n",
    "plt.style.use('ggplot')"
   ]
  },
  {
   "cell_type": "markdown",
   "metadata": {},
   "source": [
    "## Data Loading"
   ]
  },
  {
   "cell_type": "code",
   "execution_count": 2,
   "metadata": {},
   "outputs": [],
   "source": [
    "def get_centroid_details(file_path, visualize=False):\n",
    "    \"\"\"This function gets centroid coordinates using mediapipe from a video file\n",
    "\n",
    "    Args:\n",
    "        file_path (string): This is the path of the video file\n",
    "        visualize (bool, optional): Provides a visualization for the pose tracking. Defaults to False.\n",
    "\n",
    "    Returns:\n",
    "        dict: This dictionary contains a list of upper body pose estimates\n",
    "    \"\"\"\n",
    "    cap = cv2.VideoCapture(file_path)\n",
    "    mp_pose = mp.solutions.pose\n",
    "\n",
    "    rh_centroid_x = []\n",
    "    rh_centroid_y = []\n",
    "\n",
    "    lh_centroid_x = []\n",
    "    lh_centroid_y = []\n",
    "\n",
    "    with mp_pose.Pose(\n",
    "        min_detection_confidence=0.5, min_tracking_confidence=0.5\n",
    "    ) as pose:\n",
    "        while cap.isOpened():\n",
    "            success, image = cap.read()\n",
    "            if not success:\n",
    "                break\n",
    "\n",
    "            image.flags.writeable = False\n",
    "            image = cv2.cvtColor(image, cv2.COLOR_BGR2RGB)\n",
    "            image_height, image_width, _ = image.shape\n",
    "\n",
    "            centroid_results = pose.process(image)\n",
    "\n",
    "            rh_centroid_x_frame = []\n",
    "            rh_centroid_y_frame = []\n",
    "\n",
    "            lh_centroid_x_frame = []\n",
    "            lh_centroid_y_frame = []\n",
    "\n",
    "            right_hand_coords=[16, 18, 20, 22]\n",
    "            left_hand_coords=[15, 17, 21, 19]\n",
    "\n",
    "            for i in (right_hand_coords):\n",
    "                rh_centroid_x_frame.append(\n",
    "                    round(centroid_results.pose_landmarks.landmark[i].x * image_width, 2)\n",
    "                )\n",
    "                rh_centroid_y_frame.append(\n",
    "                    round(centroid_results.pose_landmarks.landmark[i].y * image_height, 2)\n",
    "                )\n",
    "\n",
    "            for i in (left_hand_coords):\n",
    "                lh_centroid_x_frame.append(\n",
    "                    round(centroid_results.pose_landmarks.landmark[i].x * image_width, 2)\n",
    "                )\n",
    "                lh_centroid_y_frame.append(\n",
    "                    round(centroid_results.pose_landmarks.landmark[i].y * image_height, 2)\n",
    "                )\n",
    "            # calculate centroid by taking the arithmetic mean of coordinates\n",
    "            rh_centroid_x.append(round(sum(rh_centroid_x_frame)/len(rh_centroid_x_frame), 2))\n",
    "            rh_centroid_y.append(round(sum(lh_centroid_y_frame)/len(lh_centroid_y_frame), 2))\n",
    "\n",
    "            lh_centroid_x.append(round(sum(lh_centroid_x_frame)/len(lh_centroid_x_frame), 2))\n",
    "            lh_centroid_y.append(round(sum(lh_centroid_y_frame)/len(lh_centroid_y_frame), 2))\n",
    "\n",
    "            # visualizing the pose analysis\n",
    "            if visualize:\n",
    "                mp_drawing = mp.solutions.drawing_utils\n",
    "                mp_drawing_styles = mp.solutions.drawing_styles\n",
    "                image.flags.writeable = True\n",
    "                image = cv2.cvtColor(image, cv2.COLOR_RGB2BGR)\n",
    "                mp_drawing.draw_landmarks(\n",
    "                    image,\n",
    "                    centroid_results.pose_landmarks,\n",
    "                    mp_pose.POSE_CONNECTIONS,\n",
    "                    landmark_drawing_spec=mp_drawing_styles.get_default_pose_landmarks_style(),\n",
    "                )\n",
    "                cv2.imshow(\"MediaPipe Pose\", cv2.flip(image, 1))\n",
    "                if cv2.waitKey(5) & 0xFF == 27:\n",
    "                    break\n",
    "    cap.release()\n"
   ]
  },
  {
   "cell_type": "code",
   "execution_count": 64,
   "metadata": {},
   "outputs": [],
   "source": [
    "data_path=\"../../data/sample_videos/sample1.mp4\"\n",
    "_, vid_file_name = os.path.split(data_path)\n",
    "video = cv2.VideoCapture(data_path)"
   ]
  },
  {
   "cell_type": "markdown",
   "metadata": {},
   "source": [
    "## Video Processing"
   ]
  },
  {
   "cell_type": "code",
   "execution_count": 65,
   "metadata": {},
   "outputs": [],
   "source": [
    "# centroid = get_centroid_details(data_path)\n",
    "initial_no_frames=len(centroid[\"right_hand_x\"])"
   ]
  },
  {
   "cell_type": "code",
   "execution_count": null,
   "metadata": {},
   "outputs": [],
   "source": [
    "# writing centroid\n",
    "with open(\"../output/result.json\", \"w\") as f:\n",
    "    f.write(json.dumps(centroid))"
   ]
  },
  {
   "cell_type": "code",
   "execution_count": 73,
   "metadata": {},
   "outputs": [],
   "source": [
    "# reading centroid\n",
    "\n",
    "with open(\"../output/result.json\", \"r\") as json_file:\n",
    "    centroid = json.load(json_file)"
   ]
  },
  {
   "cell_type": "markdown",
   "metadata": {},
   "source": [
    "Finding out the hand distance parameter for all the frames"
   ]
  },
  {
   "cell_type": "code",
   "execution_count": 74,
   "metadata": {},
   "outputs": [],
   "source": [
    "right_x = centroid[\"right_hand_x\"]\n",
    "right_y = centroid[\"right_hand_y\"]\n",
    "left_x = centroid[\"left_hand_x\"]\n",
    "left_y = centroid[\"left_hand_y\"]\n",
    "\n",
    "hand_distance=[]\n",
    "\n",
    "def euc_dist(x1, x2, y1, y2):\n",
    "    return ((x1 - x2)**2 + (y1 - y2)**2)**0.5\n",
    "\n",
    "for i in range(1, initial_no_frames):\n",
    "    right_distance = euc_dist(right_x[i], right_x[i-1], right_y[i], right_y[i-1])\n",
    "    left_distance = euc_dist(left_x[i], left_x[i-1], left_y[i], left_y[i-1])\n",
    "    hand_distance.append(max(right_distance, left_distance))\n"
   ]
  },
  {
   "cell_type": "markdown",
   "metadata": {},
   "source": [
    "Finding out the hand height parameter for all the frames"
   ]
  },
  {
   "cell_type": "code",
   "execution_count": 75,
   "metadata": {},
   "outputs": [],
   "source": [
    "hand_height=[]\n",
    "for i in range(initial_no_frames):\n",
    "    hand_height.append(min(right_y[i], left_y[i]))\n"
   ]
  },
  {
   "cell_type": "markdown",
   "metadata": {},
   "source": [
    "Plotting the hand distance for each frame in the video file to see how the value changes. Also plotting a threshold that takes points that show less than 10% of the maximum hand distance"
   ]
  },
  {
   "cell_type": "code",
   "execution_count": 76,
   "metadata": {},
   "outputs": [
    {
     "data": {
      "image/png": "[encoded data removed]",
      "text/plain": [
       "<Figure size 432x288 with 1 Axes>"
      ]
     },
     "metadata": {
      "needs_background": "light"
     },
     "output_type": "display_data"
    }
   ],
   "source": [
    "plt.scatter([i for i in range(0, initial_no_frames-1)], hand_distance)\n",
    "alpha=0.1*max(hand_distance)\n",
    "plt.plot([0, 262], [alpha, alpha], color=\"green\")\n",
    "\n",
    "plt.ylabel(\"Hand distance\")\n",
    "plt.xlabel(\"Frame number\")\n",
    "plt.show()\n"
   ]
  },
  {
   "cell_type": "markdown",
   "metadata": {},
   "source": [
    "Plotting the hand height for each frame in the video file to see how the value changes. Also plotting a line through the average of hand height values to represent a threshold to select the frames"
   ]
  },
  {
   "cell_type": "code",
   "execution_count": 77,
   "metadata": {},
   "outputs": [
    {
     "data": {
      "image/png": "[encoded data removed]",
      "text/plain": [
       "<Figure size 432x288 with 1 Axes>"
      ]
     },
     "metadata": {
      "needs_background": "light"
     },
     "output_type": "display_data"
    }
   ],
   "source": [
    "plt.scatter([i for i in range(0, initial_no_frames)], hand_height)\n",
    "beta=round(sum(hand_height)/len(hand_height),2)\n",
    "plt.plot([0, 262], [beta, beta], color=\"green\")\n",
    "\n",
    "\n",
    "plt.ylabel(\"Hand height\")\n",
    "plt.xlabel(\"Frame number\")\n",
    "plt.show()"
   ]
  },
  {
   "cell_type": "markdown",
   "metadata": {},
   "source": [
    "Using the computed thresholds to output the processed video file"
   ]
  },
  {
   "cell_type": "code",
   "execution_count": 78,
   "metadata": {},
   "outputs": [
    {
     "ename": "IndexError",
     "evalue": "list index out of range",
     "output_type": "error",
     "traceback": [
      "\u001b[0;31m---------------------------------------------------------------------------\u001b[0m",
      "\u001b[0;31mIndexError\u001b[0m                                Traceback (most recent call last)",
      "\u001b[1;32m/home/codevardhan/fyp/amrita-umang-intern/kt-session-2/assignment/RGB_KFS.ipynb Cell 18'\u001b[0m in \u001b[0;36m<cell line: 9>\u001b[0;34m()\u001b[0m\n\u001b[1;32m     <a href='vscode-notebook-cell:/home/codevardhan/fyp/amrita-umang-intern/kt-session-2/assignment/RGB_KFS.ipynb#ch0000020?line=10'>11</a>\u001b[0m \u001b[39mif\u001b[39;00m \u001b[39mnot\u001b[39;00m ret:\n\u001b[1;32m     <a href='vscode-notebook-cell:/home/codevardhan/fyp/amrita-umang-intern/kt-session-2/assignment/RGB_KFS.ipynb#ch0000020?line=11'>12</a>\u001b[0m     \u001b[39mbreak\u001b[39;00m\n\u001b[0;32m---> <a href='vscode-notebook-cell:/home/codevardhan/fyp/amrita-umang-intern/kt-session-2/assignment/RGB_KFS.ipynb#ch0000020?line=12'>13</a>\u001b[0m \u001b[39mif\u001b[39;00m(hand_distance[frame_num\u001b[39m-\u001b[39;49m\u001b[39m1\u001b[39;49m]\u001b[39m>\u001b[39malpha \u001b[39mand\u001b[39;00m frame_num\u001b[39m!=\u001b[39m\u001b[39m0\u001b[39m):\n\u001b[1;32m     <a href='vscode-notebook-cell:/home/codevardhan/fyp/amrita-umang-intern/kt-session-2/assignment/RGB_KFS.ipynb#ch0000020?line=13'>14</a>\u001b[0m     output\u001b[39m.\u001b[39mwrite(frame)\n\u001b[1;32m     <a href='vscode-notebook-cell:/home/codevardhan/fyp/amrita-umang-intern/kt-session-2/assignment/RGB_KFS.ipynb#ch0000020?line=14'>15</a>\u001b[0m     output_frames\u001b[39m+\u001b[39m\u001b[39m=\u001b[39m\u001b[39m1\u001b[39m\n",
      "\u001b[0;31mIndexError\u001b[0m: list index out of range"
     ]
    }
   ],
   "source": [
    "video = cv2.VideoCapture(data_path)\n",
    "output_path = os.path.join(\"../output/\", vid_file_name.split(\".\")[0] + \".mp4\")\n",
    "fourcc = cv2.VideoWriter_fourcc(\"m\", \"p\", \"4\", \"v\")\n",
    "dim=(int(video.get(cv2.CAP_PROP_FRAME_HEIGHT)), int(video.get(cv2.CAP_PROP_FRAME_WIDTH)))\n",
    "output = cv2.VideoWriter(output_path, fourcc, video.get(cv2.CAP_PROP_FPS), dim)\n",
    "\n",
    "frame_num=0\n",
    "output_frames=0\n",
    "while True:\n",
    "    ret, frame = video.read()\n",
    "    if not ret:\n",
    "        break\n",
    "    if(hand_distance[frame_num-1]>alpha and frame_num!=0):\n",
    "        output.write(frame)\n",
    "        output_frames+=1\n",
    "    elif(hand_height[frame_num]<beta):\n",
    "        output.write(frame)\n",
    "        output_frames+=1\n",
    "    frame_num+=1\n",
    "output.release()\n"
   ]
  },
  {
   "cell_type": "markdown",
   "metadata": {},
   "source": [
    "Creating video summary dictionary to store the video metadata"
   ]
  },
  {
   "cell_type": "code",
   "execution_count": 63,
   "metadata": {},
   "outputs": [],
   "source": [
    "video_summary={}\n",
    "video_summary[\"Filename\"]=vid_file_name\n",
    "video_summary[\"Hand_Height\"]=hand_height\n",
    "video_summary[\"Hand_Distance\"]=hand_distance\n",
    "video_summary[\"Initial_Frame_Count\"]=initial_no_frames\n",
    "video_summary[\"Post_KFS_Frame_Count\"]=output_frames\n",
    "video_summary[\"Percentage_Reduction\"]=round(((initial_no_frames-output_frames)/initial_no_frames)*100, 2)\n",
    "video_summary[\"Hand_Height_Threshold_Value\"]=beta\n",
    "video_summary[\"Hand_Distance_Threshold_Value\"]=alpha\n",
    "\n",
    "output_path = os.path.join(\"../output/\", vid_file_name.split(\".\")[0] + \".json\")\n",
    "\n",
    "with open(output_path, \"w\") as f:\n",
    "    f.write(json.dumps(video_summary))"
   ]
  },
  {
   "cell_type": "code",
   "execution_count": null,
   "metadata": {},
   "outputs": [],
   "source": []
  }
 ],
 "metadata": {
  "interpreter": {
   "hash": "ebbf05a9a14a51d2950afd54f8df4f4eca38023b961d211f69891aa0932a105a"
  },
  "kernelspec": {
   "display_name": "Python 3.8.10 ('env': venv)",
   "language": "python",
   "name": "python3"
  },
  "language_info": {
   "codemirror_mode": {
    "name": "ipython",
    "version": 3
   },
   "file_extension": ".py",
   "mimetype": "text/x-python",
   "name": "python",
   "nbconvert_exporter": "python",
   "pygments_lexer": "ipython3",
   "version": "3.10.4"
  },
  "orig_nbformat": 4
 },
 "nbformat": 4,
 "nbformat_minor": 2
}
